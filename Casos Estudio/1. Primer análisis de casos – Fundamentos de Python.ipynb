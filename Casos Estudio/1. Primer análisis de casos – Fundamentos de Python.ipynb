{
 "cells": [
  {
   "cell_type": "markdown",
   "metadata": {
    "id": "q7R3dARlFtDY"
   },
   "source": [
    "# Primer análisis de casos – Fundamentos de Python\n",
    "### Estudiante: María Josseth Vásquez Pacheco\n",
    "### Fecha Entrega: 09/10/2025\n",
    "### Curso: 2025C3-G02-PROGRAMACIÓN\n",
    "\n",
    "\n",
    "## Objetivo:\n",
    "En esta tarea, practicaremos los fundamentos básicos de Python resolviendo **cuatro ejercicios** de la lista planteada. Cada solución debe detallar **entradas**, **procesos** y **salidas** para comprender mejor cómo funciona cada problema.\n",
    "\n",
    "### Formato para cada ejercicio (seleccionemos 4 ejercicios):\n",
    "#### Ejercicio X:\n",
    "- **Descripción del problema:** Incluiremos el enunciado del ejercicio.\n",
    "- **Entradas:** Detallaremos los datos que debemos ingresar.\n",
    "- **Proceso:** Explicaremos cómo resolveremos el problema (algoritmo o fórmula).\n",
    "- **Salidas:** Describiremos el resultado que veremos en pantalla al final del proceso.\n",
    "\n",
    "#### Código del ejercicio:\n",
    "- Escribiremos la solución del ejercicio en una celda de código Python.\n",
    "- Agregaremos comentarios para explicar el código y hacerlo más comprensible.\n",
    "\n",
    "### Conclusión:\n",
    "- Al final, resumiremos lo que hemos aprendido resolviendo los ejercicios.\n",
    "- Reflexionaremos sobre cómo Python nos ayuda a solucionar problemas cotidianos.\n",
    "\n",
    "## Formato de entrega del informe en PDF:\n",
    "\n",
    "Debemos exportar nuestro notebook de Jupyter a formato PDF, cumpliendo con las siguientes pautas:\n",
    "\n",
    "### Portada:\n",
    "- Título: \"Primer análisis de casos – Fundamentos de Python\".\n",
    "- Nuestro nombre completo.\n",
    "- Fecha de entrega.\n",
    "- Curso.\n",
    "\n",
    "### Cuerpo del informe:\n",
    "- **Introducción:** Explicaremos brevemente los ejercicios que hemos seleccionado.\n",
    "- **Desarrollo de cada ejercicio:**\n",
    "  - Descripción del problema.\n",
    "  - Entradas, procesos y salidas detallados.\n",
    "  - Capturas de pantalla del código y del resultado de la ejecución.\n",
    "\n",
    "### Conclusión:\n",
    "- Reflexionaremos sobre el aprendizaje y las posibles dificultades que enfrentamos durante la resolución de los ejercicios.\n",
    "\n",
    "## Lista de ejercicios (Seleccionemos 4):\n",
    "\n",
    "1. Calcular el área de un triángulo a partir de la base y altura ingresadas.\n",
    "2. Convertir una cantidad de dólares a colones.\n",
    "3. Convertir grados centígrados a Fahrenheit.\n",
    "4. Mostrar cuántos segundos tiene un lustro.\n",
    "5. Calcular el tiempo que le toma a la luz viajar del sol a Marte.\n",
    "6. Calcular cuántas vueltas da una llanta en 1 km.\n",
    "7. Calcular la longitud de la sombra de un edificio de 20 metros.\n",
    "8. Comparar si la edad ingresada por dos usuarios es la misma.\n",
    "9. Calcular cuántos meses han transcurrido desde nuestra fecha de nacimiento.\n",
    "10. Calcular el promedio de un alumno en 5 materias.\n",
    "\n",
    "## Proceso de entrega:\n",
    "1. Resolveremos 4 de los ejercicios propuestos en un notebook de.\n",
    "2. Exportaremos el notebook a PDF siguiendo el formato establecido.\n",
    "3. Subiremos el PDF y el archivo de notebook (.ipynb) a la plataforma antes de la fecha límite.\n"
   ]
  },
  {
   "cell_type": "markdown",
   "metadata": {},
   "source": [
    "# Problema #1\n",
    "\n",
    "### Convertir una cantidad de dólares a colones.\n",
    "\n",
    "## Entrada: \n",
    "Leer La cantidad de dolares\n",
    "Leer tipo cambio\n",
    "\n",
    "## Proceso:\n",
    "\n",
    "cantidad_dolares * tipo_cambio\n",
    "\n",
    "## Salida:\n",
    "\n",
    "resultado de la multiplicacion"
   ]
  },
  {
   "cell_type": "code",
   "execution_count": null,
   "metadata": {},
   "outputs": [
    {
     "name": "stdout",
     "output_type": "stream",
     "text": [
      "El área del tríangulo es de: 30.0\n"
     ]
    }
   ],
   "source": [
    "#Problema :Calcular el área del triángulo a partir de la base y la altura ingresada\n",
    "\n",
    "#Entradas ----> se le solicita la base y altura al usuario\n",
    "base = int(input('Porfavor ingrese la base del tríangulo'))\n",
    "altura = int(input('Porfavor ingrese la altura del tríangulo'))\n",
    "\n",
    "#Proceso ----> formula: (base * altura) / 2\n",
    "area = (base * altura) / 2\n",
    "\n",
    "#Salida\n",
    "print(f'El área del tríangulo es de: {area}')\n"
   ]
  },
  {
   "cell_type": "code",
   "execution_count": null,
   "metadata": {
    "colab": {
     "base_uri": "https://localhost:8080/"
    },
    "executionInfo": {
     "elapsed": 10485,
     "status": "ok",
     "timestamp": 1712064323417,
     "user": {
      "displayName": "Andrés Mena Abarca",
      "userId": "07418092259593836578"
     },
     "user_tz": 360
    },
    "id": "n3rOsUESDeTs",
    "outputId": "1cd40ed7-f1d2-4b89-bca5-696418df0021"
   },
   "outputs": [
    {
     "name": "stdout",
     "output_type": "stream",
     "text": [
      "Bienvenidos al convertidor de dolares a colones\n",
      "La cantidad de $100.0 equivale a 50460.0 colones\n"
     ]
    }
   ],
   "source": [
    "# Bienvenida \n",
    "print('Bienvenidos al convertidor de dolares a colones')\n",
    "\n",
    "#Entradas ----> solicitamos el la cantidad de dolares que se desean cambiar \n",
    "cantidad_dolares = float(input('Porfavor ingrese la cantidad de dolares que desea convertir'))\n",
    "tipo_cambio = float(input('Porfavor ingrese el tipo de cambio del dolar'))\n",
    "\n",
    "#Proceso ----> Se multiplica la cantidad de dolares por el tipo de cambio  \n",
    "monto_colones = cantidad_dolares * tipo_cambio\n",
    "\n",
    "#Salida ----> se muestra el resultado de la multiplicación,que es la conversión de dolares a colones\n",
    "print(f'La cantidad de ${cantidad_dolares} equivale a {monto_colones} colones')"
   ]
  },
  {
   "cell_type": "markdown",
   "metadata": {},
   "source": [
    "# Problema #2\n",
    "\n",
    "### Convertir grados Centígrados a Fahrenheit\n",
    "\n",
    "## Entrada:\n",
    "Se solicita los grados Centígrados que se desean convertir a grados Fahrenheit\n",
    "## Proceso:\n",
    "La formula es: (C° * 9/5 ) + 32 \n",
    "## Salida:\n",
    "Se muestra el resultado de la conversión"
   ]
  },
  {
   "cell_type": "code",
   "execution_count": 6,
   "metadata": {},
   "outputs": [
    {
     "name": "stdout",
     "output_type": "stream",
     "text": [
      "Bienvenidos al convertidor de grados Centígrados a Fahrenheid\n",
      "La cantidad de grados Centígrados: 37.0°C a Fahrenheid es de: 98.6°F\n"
     ]
    }
   ],
   "source": [
    "print('Bienvenidos al convertidor de grados Centígrados a Fahrenheid')\n",
    "\n",
    "#Entradas ----> Se solicita la cantidad de grados centígrados que se desean convertir\n",
    "\n",
    "grados_centigrados = float(input('Porfavor ingrese la cantidad de grados centígrados'))\n",
    "\n",
    "#Proceso ----> Se ejecuta la formula\n",
    "fahrenheid = (grados_centigrados * 9/5) + 32\n",
    "\n",
    "#Salida ----> Se muestra el resultado\n",
    "\n",
    "print(f'La cantidad de grados Centígrados: {grados_centigrados}°C a Fahrenheid es de: {fahrenheid}°F')\n",
    "\n"
   ]
  },
  {
   "cell_type": "markdown",
   "metadata": {},
   "source": [
    "# Problema #3\n",
    "\n",
    "### Mostrar cuantos segundos tiene un lustro\n",
    "\n",
    "## Entrada:\n",
    "Se le solicita al usuario:\n",
    "1. de años que tiene un lustro\n",
    "2.Cantidad de días que un año\n",
    "3.Cantidad de horas que tiene un día\n",
    "4.Cantidad de minutos que tiene una hora\n",
    "5.Cantidad de segundos que tiene minuto\n",
    "## Proceso:\n",
    "Se aplica la formula: años_lustro × dias_año × horas_dia × minutos_hora × segundos_minuto\n",
    "## Salida:\n",
    "Se muestra el resultado del calculo realizado."
   ]
  },
  {
   "cell_type": "code",
   "execution_count": 1,
   "metadata": {},
   "outputs": [
    {
     "ename": "ValueError",
     "evalue": "invalid literal for int() with base 10: ''",
     "output_type": "error",
     "traceback": [
      "\u001b[31m---------------------------------------------------------------------------\u001b[39m",
      "\u001b[31mValueError\u001b[39m                                Traceback (most recent call last)",
      "\u001b[36mCell\u001b[39m\u001b[36m \u001b[39m\u001b[32mIn[1]\u001b[39m\u001b[32m, line 2\u001b[39m\n\u001b[32m      1\u001b[39m \u001b[38;5;66;03m#Entradas \u001b[39;00m\n\u001b[32m----> \u001b[39m\u001b[32m2\u001b[39m annos_lustro = \u001b[38;5;28;43mint\u001b[39;49m\u001b[43m(\u001b[49m\u001b[38;5;28;43minput\u001b[39;49m\u001b[43m(\u001b[49m\u001b[33;43m'\u001b[39;49m\u001b[33;43mIngrese la cantidad de años que tiene una lustro\u001b[39;49m\u001b[33;43m'\u001b[39;49m\u001b[43m)\u001b[49m\u001b[43m)\u001b[49m\n\u001b[32m      3\u001b[39m dias_annos = \u001b[38;5;28mint\u001b[39m(\u001b[38;5;28minput\u001b[39m(\u001b[33m'\u001b[39m\u001b[33mIngrese la cantidad de días que tiene un año\u001b[39m\u001b[33m'\u001b[39m))\n\u001b[32m      4\u001b[39m horas_dia = \u001b[38;5;28mint\u001b[39m(\u001b[38;5;28minput\u001b[39m(\u001b[33m'\u001b[39m\u001b[33mIngrese la cantidad de horas que tiene un día\u001b[39m\u001b[33m'\u001b[39m))\n",
      "\u001b[31mValueError\u001b[39m: invalid literal for int() with base 10: ''"
     ]
    }
   ],
   "source": [
    "#Bienvenida\n",
    "#Entradas \n",
    "annos_lustro = int(input('Ingrese la cantidad de años que tiene una lustro'))\n",
    "dias_annos = int(input('Ingrese la cantidad de días que tiene un año'))\n",
    "horas_dia = int(input('Ingrese la cantidad de horas que tiene un día'))\n",
    "minutos_hora = int(input('Ingrese la cantidad de minutos que tiene una hora'))\n",
    "segundos_minuto = int(input('Ingrese la cantidad de segundos que tiene un minuto'))\n",
    "\n",
    "#Proceso\n",
    "segundos_lustro = annos_lustro * dias_annos * horas_dia * minutos_hora * segundos_minuto\n",
    "\n",
    "#Salidas\n",
    "\n",
    "print(f'La cantidad de segundos que tiene un lustro son: {segundos_lustro}')\n",
    "\n"
   ]
  },
  {
   "cell_type": "markdown",
   "metadata": {},
   "source": [
    "# Problema #4\n",
    "\n",
    "### calcular el tiempo que le toma a la luz viajar del sol a marte\n",
    "\n",
    "## Entrada:\n",
    "Se le solicita al usuario que introduzca la distancia del Sol a Marte\n",
    "## Proceso:\n",
    "Se ejecuta la siguiente formula: distancia / 299,792,458\n",
    "## Salida:\n",
    "Se muestra el resultado"
   ]
  },
  {
   "cell_type": "code",
   "execution_count": null,
   "metadata": {},
   "outputs": [
    {
     "name": "stdout",
     "output_type": "stream",
     "text": [
      "Bienvenidos al calculo para identificar cuanto tiempo le toma a la luz viajar del sol a marte\n",
      "\n",
      "Nota: La distancia cuando Marte está más cerca del Sol (perihelio) es de 206 millones km\n",
      "Nota: La distancia cuando Marte está más lejos del sol (afelio) es de 249 millones km\n",
      "Nota: La distancia promedio de Marte del sol es de 228 millones km\n",
      "\n",
      "El tiempo que le toma a la luz viajar del sol a marte es de: 6.871420361081932e-07 segundos\n"
     ]
    }
   ],
   "source": [
    "#Entrada \n",
    "print('Bienvenidos al calculo para identificar cuanto tiempo le toma a la luz viajar del sol a marte')\n",
    "print('\\nNota: La distancia cuando Marte está más cerca del Sol (perihelio) es de 206 millones km')\n",
    "print('Nota: La distancia cuando Marte está más lejos del sol (afelio) es de 249 millones km')\n",
    "print('Nota: La distancia promedio de Marte del sol es de 228 millones km')\n",
    "\n",
    "distancia = int(input('Segun las notas, introduzca la distancia de marte del sol'))\n",
    "\n",
    "#Proceso\n",
    "tiempo_luz = distancia  /  299792458\n",
    "\n",
    "#Salidan\n",
    "\n",
    "print(f'\\nEl tiempo que le toma a la luz viajar del sol a marte es de: {tiempo_luz} segundos')"
   ]
  }
 ],
 "metadata": {
  "colab": {
   "provenance": []
  },
  "kernelspec": {
   "display_name": "Python 3",
   "name": "python3"
  },
  "language_info": {
   "codemirror_mode": {
    "name": "ipython",
    "version": 3
   },
   "file_extension": ".py",
   "mimetype": "text/x-python",
   "name": "python",
   "nbconvert_exporter": "python",
   "pygments_lexer": "ipython3",
   "version": "3.13.7"
  }
 },
 "nbformat": 4,
 "nbformat_minor": 0
}
