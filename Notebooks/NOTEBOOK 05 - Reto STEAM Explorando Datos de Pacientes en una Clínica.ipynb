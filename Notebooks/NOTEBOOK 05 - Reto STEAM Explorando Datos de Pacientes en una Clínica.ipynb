{
 "cells": [
  {
   "cell_type": "markdown",
   "metadata": {},
   "source": [
    "# Reto Bootcamp STEAM 🔬💻🎨: Explorando Datos de Pacientes\n",
    "## Fundamentos de Python | UMCA\n",
    "## Profesor: Ing. Andrés Mena Abarca\n",
    "### <mark>**Nombre del estudiante:*María Josseth Vásquez*</mark> \n",
    "* * *"
   ]
  },
  {
   "attachments": {},
   "cell_type": "markdown",
   "metadata": {},
   "source": [
    "## Misión: Científico de Datos Clínicos\n",
    "\n",
    "¡Bienvenidos al reto STEAM! Nuestra misión hoy es construir un sistema de análisis de datos para una clínica, subiendo el nivel de dificultad paso a paso.\n",
    "\n",
    "Comenzaremos con la práctica esencial de **ciclos y listas** y progresaremos hasta el manejo de estructuras de datos complejas (JSON y diccionarios). Si la base es sólida, ¡el análisis avanzado será fácil!\n",
    "\n",
    "### Objetivos de Programación:\n",
    "1. Dominar el uso del ciclo `for` con listas básicas.\n",
    "2. Comprender y cargar el formato **JSON** en Python.\n",
    "3. Implementar **bucles anidados** para datos complejos.\n",
    "4. Aplicar lógica condicional (`if`) y manejo de listas (`.append()`, `.index()`) en todos los niveles."
   ]
  },
  {
   "cell_type": "markdown",
   "metadata": {},
   "source": [
    "--- \n",
    "## FASE 1: Fundamentos de Ciclos y Listas (Nivel Básico) 👶\n",
    "\n",
    "Antes de trabajar con la base de datos completa, vamos a practicar con una simple lista de provincias. Recuerda que un ciclo `for` es una de las herramientas más poderosas de Python."
   ]
  },
  {
   "cell_type": "code",
   "execution_count": 28,
   "metadata": {
    "language": "python"
   },
   "outputs": [],
   "source": [
    "# Datos simples para empezar a practicar ciclos\n",
    "#                          0           1        2           3           4           5           6           7\n",
    "provincias_visitas = [\"San Jose\", \"Heredia\", \"Alajuela\", \"San Jose\", \"Cartago\", \"Heredia\", \"San Jose\", \"Puntarenas\"]\n",
    "\n",
    "\n"
   ]
  },
  {
   "cell_type": "markdown",
   "metadata": {},
   "source": [
    "### Desafío 1.A: Mostrar el Recorrido (Ciclo Simple)\n",
    "\n",
    "**Instrucción:** Usa un ciclo `for` para recorrer la lista `provincias_visitas` e imprime un mensaje por cada provincia.\n",
    "\n",
    "**Salida Esperada (parcial):**\n",
    "```\n",
    "Analizando visita en San Jose\n",
    "Analizando visita en Heredia\n",
    "..."
   ]
  },
  {
   "cell_type": "code",
   "execution_count": 29,
   "metadata": {},
   "outputs": [
    {
     "name": "stdout",
     "output_type": "stream",
     "text": [
      "Analizando visita en: San Jose\n",
      "Analizando visita en: Heredia\n",
      "Analizando visita en: Alajuela\n",
      "Analizando visita en: San Jose\n",
      "Analizando visita en: Cartago\n",
      "Analizando visita en: Heredia\n",
      "Analizando visita en: San Jose\n",
      "Analizando visita en: Puntarenas\n"
     ]
    }
   ],
   "source": [
    "# Escribe tu código aquí para el Desafío 1.A\n",
    "# Para cada provicia dentro de provincias_visitas, en cada vuelta aumenta el indice para poder recorrerla\n",
    "for provincia in provincias_visitas: \n",
    "    print(f'Analizando visita en: {provincia}')"
   ]
  },
  {
   "cell_type": "markdown",
   "metadata": {},
   "source": [
    "### Desafío 1.B: Conteo con Condicionales (Ciclo + IF)\n",
    "\n",
    "**Instrucción:** Crea una variable `conteo_san_jose` e inicialízala en cero. Usa el ciclo `for` para recorrer la lista y un condicional `if` para incrementar el contador solo cuando la provincia sea \"San Jose\".\n",
    "\n",
    "**Salida Esperada:**\n",
    "```\n",
    "El número total de visitas en San Jose es: 3\n",
    "```"
   ]
  },
  {
   "cell_type": "code",
   "execution_count": 30,
   "metadata": {},
   "outputs": [
    {
     "name": "stdout",
     "output_type": "stream",
     "text": [
      "El número total de visitas a San José es: 3\n"
     ]
    }
   ],
   "source": [
    "# Escribe tu código aquí para el Desafío 1.B\n",
    "#Con click derecho en rename symbol se pueden cambiar de nombre todas las variables, si nos equivocamos al escribrirlas\n",
    "\n",
    "conteo_san_jose = 0\n",
    "\n",
    "for provincia in provincias_visitas:\n",
    "    if provincia == 'San Jose':\n",
    "        #Aqui se aumenta el contador si aparece san jose \n",
    "        conteo_san_jose += 1\n",
    "        \n",
    "print(f'El número total de visitas a San José es: {conteo_san_jose}')"
   ]
  },
  {
   "cell_type": "markdown",
   "metadata": {},
   "source": [
    "--- \n",
    "## FASE 2: Estructuras Avanzadas (JSON y Diccionarios) 🎓\n",
    "\n",
    "Ahora que dominas los ciclos básicos, vamos a subir al nivel de datos profesionales. Nuestra base de datos está en formato **JSON**.\n",
    "\n",
    "**Recordatorio:** En Python, los objetos JSON se convierten en **Diccionarios** (`{}`) y son la clave para el análisis moderno.\n",
    "**Acceso a datos:** Usarás `paciente['clave']`."
   ]
  },
  {
   "cell_type": "code",
   "execution_count": 31,
   "metadata": {
    "language": "python"
   },
   "outputs": [
    {
     "name": "stdout",
     "output_type": "stream",
     "text": [
      "Archivo cargado exitosamente! total de registros: 15\n",
      "\n",
      " Estructura de datos: \n",
      "{'cedula': 89076541, 'nombre': 'Ana Gómez', 'edad': 34, 'genero': 'F', 'provincia': 'Heredia', 'canton': 'Barva', 'enfermedades': ['migraña', 'gripe'], 'medicamentos': ['acetaminofen', 'ibuprofeno']}\n"
     ]
    }
   ],
   "source": [
    "#Un diccionario utiliza {}, tienen un llave (identidicador unico) y un valor, puede contener listas dentro de los valores \n",
    "#           llave    valor\n",
    "#ejemplo: \"cedula\": 89076541,\n",
    "#\"enfermedades\": [\"migraña\", \"gripe\"],\n",
    "#------------------------------------------------------------------------------------------------------------------------------\n",
    "#El archivo json es una lista de diccionarios\n",
    "\n",
    "#Importar librería pora abrir el archivo json\n",
    "import json\n",
    "\n",
    "# ¡Asegúrate de tener el archivo 'datos_clinica.json' en la misma carpeta!\n",
    "#nombre_archivo = input('Ingrese el nombre del archivo a leer') --> implementar en el proyecto\n",
    "nombre_archivo = 'datos_clinica.json' \n",
    "datos_pacientes = []\n",
    "\n",
    "try:\n",
    "    #CODIGO LEER ARCHIVO\n",
    "    #Lectura en bloque\n",
    "    with open(nombre_archivo, 'r',encoding='utf-8') as f:\n",
    "        datos_pacientes = json.load(f)\n",
    "    #Confirmar lectura\n",
    "    print(f'Archivo cargado exitosamente! total de registros: {len(datos_pacientes)}')\n",
    "    print('\\n Estructura de datos: ')\n",
    "    print(datos_pacientes[0])\n",
    "    \n",
    "except FileNotFoundError:\n",
    "    print(f\"❌ Error: No se encontró el archivo '{nombre_archivo}'. ¡No puedes continuar!\")\n",
    "except Exception as e:\n",
    "    print(f\"❌ Ocurrió un error al leer el archivo: {e}\")"
   ]
  },
  {
   "cell_type": "markdown",
   "metadata": {},
   "source": [
    "### Desafío 2.A: Primer Contacto con Diccionarios\n",
    "\n",
    "**Instrucción:** Usa un ciclo `for` para recorrer los primeros **tres pacientes** de la lista `datos_pacientes`. Por cada paciente, imprime su nombre y edad usando las claves `'nombre'` y `'edad'`.\n",
    "\n",
    "**Pista:** Puedes usar `datos_pacientes[:3]` para limitar la iteración a los primeros tres elementos.\n",
    "\n",
    "**Salida Esperada (parcial):**\n",
    "```\n",
    "Paciente: Ana Gómez, Edad: 34\n",
    "Paciente: Luis Mora, Edad: 45\n",
    "..."
   ]
  },
  {
   "cell_type": "code",
   "execution_count": 32,
   "metadata": {},
   "outputs": [
    {
     "name": "stdout",
     "output_type": "stream",
     "text": [
      "Paciente: Ana Gómez, Edad: 34\n",
      "Paciente: Luis Mora, Edad: 45\n",
      "Paciente: Sofía Salas, Edad: 29\n"
     ]
    }
   ],
   "source": [
    "# Escribe tu código aquí para el Desafío 2.A\n",
    "\n",
    "for paciente in datos_pacientes[:3]:\n",
    "    nombre = paciente['nombre']\n",
    "    edad = paciente['edad']\n",
    "    print(f'Paciente: {nombre}, Edad: {edad}')\n",
    "    "
   ]
  },
  {
   "cell_type": "code",
   "execution_count": 33,
   "metadata": {},
   "outputs": [
    {
     "name": "stdout",
     "output_type": "stream",
     "text": [
      "La Paciente: Ana Gómez, Edad: 34\n",
      "El paciente: Luis Mora, Edad: 45\n",
      "La Paciente: Sofía Salas, Edad: 29\n",
      "El paciente: Carlos Rojas, Edad: 50\n",
      "La Paciente: Elena Castro, Edad: 62\n",
      "El paciente: David Solano, Edad: 38\n",
      "La Paciente: Laura Méndez, Edad: 55\n",
      "El paciente: Miguel Pérez, Edad: 22\n",
      "La Paciente: Carmen Ruiz, Edad: 48\n",
      "El paciente: Jorge Alfaro, Edad: 70\n",
      "La Paciente: Isabel Solís, Edad: 31\n",
      "El paciente: Roberto Arias, Edad: 65\n",
      "La Paciente: Patricia Mora, Edad: 28\n",
      "El paciente: Andrés Vargas, Edad: 42\n",
      "La Paciente: Gabriela Soto, Edad: 59\n"
     ]
    }
   ],
   "source": [
    "# Escribe tu código aquí para el Desafío 2.A\n",
    "for paciente in datos_pacientes:\n",
    "    nombre = paciente['nombre']\n",
    "    edad = paciente['edad']\n",
    "    genero = paciente ['genero']\n",
    "    \n",
    "    if genero == 'M':\n",
    "        print(f'El paciente: {nombre}, Edad: {edad}')\n",
    "    else:\n",
    "        print(f'La Paciente: {nombre}, Edad: {edad}')\n",
    "\n",
    "    \n"
   ]
  },
  {
   "cell_type": "markdown",
   "metadata": {},
   "source": [
    "--- \n",
    "## FASE 3: Análisis de Frecuencias (Bucles Anidados) 🔬\n",
    "\n",
    "¡Nivel intermedio! Ahora debes usar tus conocimientos de ciclos y condicionales para contar elementos. La complejidad es que tienes una **Lista de enfermedades dentro de un Diccionario**.\n",
    "\n",
    "**El reto es:** Usar un ciclo `for` para pacientes, y otro ciclo `for` **anidado** para las enfermedades."
   ]
  },
  {
   "attachments": {},
   "cell_type": "markdown",
   "metadata": {
    "language": "python"
   },
   "source": [
    "### Desafío 3.A: Reporte de Enfermedades Tratadas (Doble Ciclo)\n",
    "\n",
    "**Instrucciones:**\n",
    "1. Crea una lista vacía para enfermedades (`lista_enfermedades`) y otra para las cantidades (`lista_cantidades`).\n",
    "2. Usa un ciclo `for` para recorrer cada `paciente`.\n",
    "3. Usa un ciclo `for` **anidado** para recorrer la lista `paciente['enfermedades']`.\n",
    "4. Dentro del ciclo anidado, aplica la lógica de conteo (`if...in`, `.index()`, `+= 1`)."
   ]
  },
  {
   "cell_type": "code",
   "execution_count": 34,
   "metadata": {
    "language": "python"
   },
   "outputs": [
    {
     "name": "stdout",
     "output_type": "stream",
     "text": [
      "\n",
      "--- Reporte de frecunecia de Efermedades ----\n",
      "-> Migraña : 3 pacientes\n",
      "-> Gripe : 2 pacientes\n",
      "-> Gastritis : 2 pacientes\n",
      "-> Tos Cronica : 1 pacientes\n",
      "-> Alergia : 2 pacientes\n",
      "-> Hipertension : 3 pacientes\n",
      "-> Dolor Cronico : 1 pacientes\n",
      "-> Diabetes Tipo 2 : 2 pacientes\n",
      "-> Artritis : 2 pacientes\n",
      "-> Asma : 2 pacientes\n",
      "-> Colesterol Alto : 2 pacientes\n",
      "-> Ansiedad : 1 pacientes\n"
     ]
    }
   ],
   "source": [
    "# Escribe tu código aquí para el Desafío 3.A\n",
    "#       [migraña, tos, alergia]\n",
    "lista_enfermedades = []\n",
    "#   [1,2,3]\n",
    "lista_cantidades = []\n",
    "\n",
    "#Recorre la lista principal de pacientes\n",
    "for paciente in datos_pacientes:\n",
    "    \n",
    "    #Recorre lista enfermedades dentro de la colección\n",
    "    for enfermedad in paciente['enfermedades']:\n",
    "        if enfermedad in lista_enfermedades:\n",
    "            #Aumento los diagnosticos frecuencias\n",
    "            indice = lista_enfermedades.index(enfermedad)\n",
    "            lista_cantidades[indice] += 1\n",
    "            \n",
    "        else:\n",
    " \n",
    "            lista_enfermedades.append(enfermedad)\n",
    "            lista_cantidades.append(1)\n",
    "            \n",
    "\n",
    "#print(lista_enfermedades)\n",
    "#print(lista_cantidades)\n",
    "print('\\n--- Reporte de frecunecia de Efermedades ----')\n",
    "for i in range(len(lista_enfermedades)):\n",
    "    print(f'-> {lista_enfermedades[i].title()} : {lista_cantidades[i]} pacientes')\n"
   ]
  },
  {
   "attachments": {},
   "cell_type": "markdown",
   "metadata": {
    "language": "python"
   },
   "source": [
    "### Desafío 3.B: Reporte de Medicamentos Recetados\n",
    "\n",
    "Repite la lógica del Desafío 3.A, pero esta vez analizando la clave `'medicamentos'`."
   ]
  },
  {
   "cell_type": "code",
   "execution_count": 35,
   "metadata": {
    "language": "python"
   },
   "outputs": [
    {
     "name": "stdout",
     "output_type": "stream",
     "text": [
      "\n",
      "--- Reporte de frecunecia de Medicamentos ----\n",
      "-> Acetaminofen : 4 pacientes\n",
      "-> Ibuprofeno : 3 pacientes\n",
      "-> Antiacido : 1 pacientes\n",
      "-> Omeprazol : 2 pacientes\n",
      "-> Jarabe : 1 pacientes\n",
      "-> Loratadina : 2 pacientes\n",
      "-> Losartan : 3 pacientes\n",
      "-> Tramadol : 1 pacientes\n",
      "-> Insulina : 1 pacientes\n",
      "-> Metformina : 2 pacientes\n",
      "-> Salbutamol : 2 pacientes\n",
      "-> Atorvastatina : 2 pacientes\n",
      "-> Fluoxetina : 1 pacientes\n"
     ]
    }
   ],
   "source": [
    "# Escribe tu código aquí para el Desafío 3.B\n",
    "lista_medicamentos = []\n",
    "#   [1,2,3]\n",
    "lista_cantidades = []\n",
    "\n",
    "#Recorre la lista principal de pacientes\n",
    "for paciente in datos_pacientes:\n",
    "    \n",
    "    #Recorre lista enfermedades dentro de la colección\n",
    "    for medicamento in paciente['medicamentos']:\n",
    "        \n",
    "        if medicamento in lista_medicamentos:\n",
    "            #Aumento los diagnosticos frecuencias\n",
    "            indice = lista_medicamentos.index(medicamento)\n",
    "            lista_cantidades[indice] += 1\n",
    "            \n",
    "        else:\n",
    " \n",
    "            lista_medicamentos.append(medicamento)\n",
    "            lista_cantidades.append(1)\n",
    "            \n",
    "print('\\n--- Reporte de frecunecia de Medicamentos ----')\n",
    "for i in range(len(lista_medicamentos)):\n",
    "    print(f'-> {lista_medicamentos[i].title()} : {lista_cantidades[i]} pacientes')"
   ]
  },
  {
   "cell_type": "markdown",
   "metadata": {},
   "source": [
    "--- \n",
    "## FASE 4: Ingeniería de Datos - Comparación de Historias ⚙️\n",
    "\n",
    "¡Nivel Avanzado! Vas a simular una herramienta de comparación de historiales. Debes buscar dos pacientes por cédula y encontrar qué tienen en común."
   ]
  },
  {
   "attachments": {},
   "cell_type": "markdown",
   "metadata": {
    "language": "python"
   },
   "source": [
    "### Desafío 4.A: Elementos en Común\n",
    "\n",
    "**Instrucciones:**\n",
    "1. Pide la cédula (clave `'cedula'`) de dos pacientes.\n",
    "2. **Recorre la lista principal** (`datos_pacientes`) para encontrar los diccionarios de ambos pacientes y asigna sus listas de `'enfermedades'` y `'medicamentos'` a variables temporales.\n",
    "3. Usa bucles `for` y `if...in` para encontrar y mostrar los elementos que se repiten en las listas de ambos pacientes.\n",
    "\n",
    "**Prueba con:**\n",
    "```\n",
    "Cédula 1: 89076541\n",
    "Cédula 2: 45522221\n",
    "Resultado Esperado: Enfermedades en común: ['migraña'], Medicamentos en común: ['acetaminofen']\n",
    "```"
   ]
  },
  {
   "cell_type": "code",
   "execution_count": 37,
   "metadata": {
    "language": "python",
    "tags": []
   },
   "outputs": [
    {
     "name": "stdout",
     "output_type": "stream",
     "text": [
      "['acetaminofen']\n",
      "['migraña']\n"
     ]
    }
   ],
   "source": [
    "# Escribe tu código aquí para el Desafío 4.A\n",
    "# SOLUCIÓN Desafío 4.A\n",
    "\n",
    "# Ingreso de datos (Puedes reemplazar con los valores de prueba para ejecución automática)\n",
    "try:\n",
    "    cedula_1 = int(input(\"Ingrese la cédula del primer paciente (Ej: 89076541): \"))\n",
    "    cedula_2 = int(input(\"Ingrese la cédula del segundo paciente (Ej: 45522221): \"))\n",
    "except ValueError:\n",
    "    # Usamos valores de prueba si hay error de input, para demostrar la lógica\n",
    "    cedula_1 = 89076541\n",
    "    cedula_2 = 45522221\n",
    "    print(f\"Usando valores de prueba: {cedula_1} y {cedula_2}\")\n",
    "\n",
    "\n",
    "# Variables para almacenar las listas de cada paciente\n",
    "enfermedades_p1 = []\n",
    "medicamentos_p1 = []\n",
    "enfermedades_p2 = []\n",
    "medicamentos_p2 = []\n",
    "\n",
    "# 1. Búsqueda y Asignación\n",
    "for paciente in datos_pacientes:\n",
    "    if paciente['cedula'] == cedula_1:\n",
    "        enfermedades_p1.extend(paciente['enfermedades'])\n",
    "        medicamentos_p1.extend(paciente['medicamentos'])\n",
    "    \n",
    "    if paciente['cedula'] == cedula_2:\n",
    "        enfermedades_p2.extend(paciente['enfermedades'])\n",
    "        medicamentos_p2.extend(paciente['medicamentos'])\n",
    "\n",
    "# 2. Lógica de Comparación (Buscando elementos comunes)\n",
    "\n",
    "# Enfermedades en común (evitando duplicados)\n",
    "enfermedades_comunes = []\n",
    "for enf in enfermedades_p1:\n",
    "    if enf in enfermedades_p2 and enf not in enfermedades_comunes:\n",
    "        enfermedades_comunes.append(enf)\n",
    "\n",
    "\n",
    "medicamentos_comunes = []\n",
    "for med in medicamentos_p1:\n",
    "    if med in medicamentos_p2 and med not in medicamentos_comunes:\n",
    "        medicamentos_comunes.append(med)\n",
    "\n",
    "\n",
    "print(medicamentos_comunes)\n",
    "print(enfermedades_comunes)\n",
    "            \n",
    "    "
   ]
  },
  {
   "attachments": {},
   "cell_type": "markdown",
   "metadata": {
    "language": "python"
   },
   "source": [
    "## Desafío Final: Arte y Matemáticas - Reflexión 🎨📊\n",
    "\n",
    "Has analizado con éxito datos complejos. Es momento de reflexionar:\n",
    "\n",
    "### Preguntas de Reflexión:\n",
    "\n",
    "- ¿Qué diferencia notaste entre trabajar con la lista simple (Fase 1) y los diccionarios (Fase 3)?\n",
    "- ¿Qué patrón de salud general sugiere la enfermedad más frecuente?\n",
    "- Si pudieras hacer este reto con una herramienta más avanzada, ¿qué otra variable analizarías (por ejemplo: Edad promedio de pacientes con Hipertensión)?"
   ]
  }
 ],
 "metadata": {
  "kernelspec": {
   "display_name": "Python 3",
   "language": "python",
   "name": "python3"
  },
  "language_info": {
   "codemirror_mode": {
    "name": "ipython",
    "version": 3
   },
   "file_extension": ".py",
   "mimetype": "text/x-python",
   "name": "python",
   "nbconvert_exporter": "python",
   "pygments_lexer": "ipython3",
   "version": "3.13.7"
  }
 },
 "nbformat": 4,
 "nbformat_minor": 2
}
